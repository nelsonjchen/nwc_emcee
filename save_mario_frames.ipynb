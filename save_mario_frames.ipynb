{
 "cells": [
  {
   "cell_type": "markdown",
   "metadata": {
    "collapsed": true,
    "pycharm": {
     "name": "#%% md\n"
    }
   },
   "source": [
    "Load Mario Frames"
   ]
  },
  {
   "cell_type": "code",
   "execution_count": 1,
   "outputs": [],
   "source": [
    "import csv\n",
    "from pathlib import Path\n",
    "from typing import List\n",
    "from scene import Screen, MarioGameScreen\n",
    "\n",
    "mario_game_screen = MarioGameScreen()"
   ],
   "metadata": {
    "collapsed": false,
    "pycharm": {
     "name": "#%%\n"
    }
   }
  },
  {
   "cell_type": "markdown",
   "source": [
    "Process existing video\n",
    "\n"
   ],
   "metadata": {
    "collapsed": false,
    "pycharm": {
     "name": "#%% md\n"
    }
   }
  },
  {
   "cell_type": "code",
   "execution_count": 2,
   "outputs": [],
   "source": [
    "import cv2\n",
    "\n",
    "csv_path = Path(r\"D:\\mario_data\\score.csv\")\n",
    "frames_path = Path(r\"D:\\mario_data\\frames\")\n",
    "\n",
    "cap = cv2.VideoCapture(r'D:\\mario_data\\mario.avi')\n",
    "\n",
    "frame_number = 0\n",
    "\n",
    "with open(csv_path, 'w', newline='') as csv_file:\n",
    "    csv_writer = csv.DictWriter(csv_file, fieldnames = [\"frame\", \"score\", \"filename\"])\n",
    "    csv_writer.writeheader()\n",
    "\n",
    "    while True:\n",
    "        ret, frame = cap.read()\n",
    "        if not ret:\n",
    "            break\n",
    "        frame_number += 1\n",
    "        resized_frame = cv2.resize(frame, (256, 224))\n",
    "        hsv_image = cv2.cvtColor(resized_frame, cv2.COLOR_BGR2HSV)\n",
    "        if mario_game_screen.match(hsv_image):\n",
    "            frame_filename = str(frames_path / f\"{frame_number}.png\")\n",
    "            cv2.imwrite(frame_filename , resized_frame)\n",
    "            score = f'{mario_game_screen.score(hsv_image):06}'\n",
    "            csv_writer.writerow({\n",
    "                'frame': frame_number,\n",
    "                'score': score,\n",
    "                'filename': frame_filename\n",
    "            })\n",
    "\n",
    "cap.release()"
   ],
   "metadata": {
    "collapsed": false,
    "pycharm": {
     "name": "#%%\n"
    }
   }
  },
  {
   "cell_type": "code",
   "execution_count": 3,
   "outputs": [],
   "source": [
    "# CSV => frame number, score, filename\n",
    "\n",
    "\n",
    "\n"
   ],
   "metadata": {
    "collapsed": false,
    "pycharm": {
     "name": "#%%\n"
    }
   }
  }
 ],
 "metadata": {
  "kernelspec": {
   "name": "pycharm-cec22e03",
   "language": "python",
   "display_name": "PyCharm (nwc_emcee)"
  },
  "language_info": {
   "codemirror_mode": {
    "name": "ipython",
    "version": 2
   },
   "file_extension": ".py",
   "mimetype": "text/x-python",
   "name": "python",
   "nbconvert_exporter": "python",
   "pygments_lexer": "ipython2",
   "version": "2.7.6"
  }
 },
 "nbformat": 4,
 "nbformat_minor": 0
}