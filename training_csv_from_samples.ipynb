{
 "cells": [
  {
   "cell_type": "code",
   "execution_count": 44,
   "metadata": {
    "collapsed": true
   },
   "outputs": [],
   "source": [
    "\n",
    "# file_name\tscenescore_1\tscore_2\tscore_3\tscore_4\tscore_5\tscore_6"
   ]
  },
  {
   "cell_type": "code",
   "execution_count": 51,
   "outputs": [],
   "source": [
    "from dataclasses import dataclass\n",
    "import natsort\n",
    "import pathlib\n",
    "from typing import List\n",
    "import cv2\n",
    "from numpy.core.multiarray import ndarray\n",
    "from scene import Screen, TitleScreen, MarioGameScreen, RadRacerGameScreen, TetrisGameScreen, ScoreScreen"
   ],
   "metadata": {
    "collapsed": false,
    "pycharm": {
     "name": "#%%\n"
    }
   }
  },
  {
   "cell_type": "code",
   "execution_count": 46,
   "outputs": [
    {
     "name": "stdout",
     "output_type": "stream",
     "text": [
      "[WindowsPath('samples/snap_10142.png'), WindowsPath('samples/snap_10452.png'), WindowsPath('samples/snap_10683.png'), WindowsPath('samples/snap_1079.png'), WindowsPath('samples/snap_11118.png'), WindowsPath('samples/snap_120.png'), WindowsPath('samples/snap_12417.png'), WindowsPath('samples/snap_13042.png'), WindowsPath('samples/snap_14042.png'), WindowsPath('samples/snap_17935.png'), WindowsPath('samples/snap_19519.png'), WindowsPath('samples/snap_20038.png'), WindowsPath('samples/snap_2078.png'), WindowsPath('samples/snap_2387.png'), WindowsPath('samples/snap_24277.png'), WindowsPath('samples/snap_24356.png'), WindowsPath('samples/snap_24523.png'), WindowsPath('samples/snap_2576.png'), WindowsPath('samples/snap_2791.png'), WindowsPath('samples/snap_2969.png'), WindowsPath('samples/snap_3177.png'), WindowsPath('samples/snap_3267.png'), WindowsPath('samples/snap_3490.png'), WindowsPath('samples/snap_3558.png'), WindowsPath('samples/snap_3644.png'), WindowsPath('samples/snap_3898.png'), WindowsPath('samples/snap_4361.png'), WindowsPath('samples/snap_44501.png'), WindowsPath('samples/snap_44578.png'), WindowsPath('samples/snap_44806.png'), WindowsPath('samples/snap_44930.png'), WindowsPath('samples/snap_45095.png'), WindowsPath('samples/snap_45307.png'), WindowsPath('samples/snap_459.png'), WindowsPath('samples/snap_46104.png'), WindowsPath('samples/snap_4633.png'), WindowsPath('samples/snap_47805.png'), WindowsPath('samples/snap_4835.png'), WindowsPath('samples/snap_48736.png'), WindowsPath('samples/snap_50100.png'), WindowsPath('samples/snap_50132.png'), WindowsPath('samples/snap_50133.png'), WindowsPath('samples/snap_50212.png'), WindowsPath('samples/snap_50373.png'), WindowsPath('samples/snap_50538.png'), WindowsPath('samples/snap_5091.png'), WindowsPath('samples/snap_5508.png'), WindowsPath('samples/snap_6046.png'), WindowsPath('samples/snap_6155.png'), WindowsPath('samples/snap_6244.png'), WindowsPath('samples/snap_762.png'), WindowsPath('samples/snap_857.png'), WindowsPath('samples/snap_9632.png')]\n"
     ]
    }
   ],
   "source": [
    "samples_paths = pathlib.Path('samples').glob('*.png')\n",
    "non_yt_sample_paths = [sample for sample in samples_paths if 'yt' not in str(sample)]\n",
    "\n",
    "print(non_yt_sample_paths)"
   ],
   "metadata": {
    "collapsed": false,
    "pycharm": {
     "name": "#%%\n"
    }
   }
  },
  {
   "cell_type": "code",
   "execution_count": 52,
   "outputs": [],
   "source": [
    "screens: List[Screen] = [\n",
    "    TitleScreen(),\n",
    "    MarioGameScreen(),\n",
    "    RadRacerGameScreen(),\n",
    "    TetrisGameScreen(),\n",
    "]\n",
    "\n",
    "@dataclass\n",
    "class TrainingCsvEntry:\n",
    "    file_name: str\n",
    "    scene_name: str\n",
    "    score_0: str=\"n/a\"\n",
    "    score_1: str=\"n/a\"\n",
    "    score_2: str=\"n/a\"\n",
    "    score_3: str=\"n/a\"\n",
    "    score_4: str=\"n/a\"\n",
    "    score_5: str=\"n/a\"\n",
    "\n",
    "def process_path(path: pathlib.Path):\n",
    "\n",
    "    hsv_image = cv2.imread(str(path))\n",
    "\n",
    "    frame = cv2.resize(hsv_image, (256, 224))\n",
    "\n",
    "    for screen in screens:\n",
    "        hsv_image = cv2.cvtColor(frame, cv2.COLOR_BGR2HSV)\n",
    "\n",
    "        if screen.match(hsv_image):\n",
    "            if isinstance(screen, ScoreScreen):\n",
    "                score = screen.score(hsv_image)\n",
    "                score_list = list(f'{score:06}')\n",
    "                return TrainingCsvEntry(\n",
    "                    file_name= str(path.stem),\n",
    "                    scene_name = \"screen.__class__.__name__\",\n",
    "                    score_0=score_list[0],\n",
    "                    score_1=score_list[1],\n",
    "                    score_2=score_list[2],\n",
    "                    score_3=score_list[3],\n",
    "                    score_4=score_list[4],\n",
    "                    score_5=score_list[5],\n",
    "                )\n",
    "    return TrainingCsvEntry(\n",
    "        file_name=str(path.stem),\n",
    "        scene_name=\"n/a\",\n",
    "    )\n",
    "\n",
    "\n",
    "csv_data = [process_path(sample_path) for sample_path in natsort.os_sorted(non_yt_sample_paths)]\n"
   ],
   "metadata": {
    "collapsed": false,
    "pycharm": {
     "name": "#%%\n"
    }
   }
  }
 ],
 "metadata": {
  "kernelspec": {
   "display_name": "Python 3",
   "language": "python",
   "name": "python3"
  },
  "language_info": {
   "codemirror_mode": {
    "name": "ipython",
    "version": 2
   },
   "file_extension": ".py",
   "mimetype": "text/x-python",
   "name": "python",
   "nbconvert_exporter": "python",
   "pygments_lexer": "ipython2",
   "version": "2.7.6"
  }
 },
 "nbformat": 4,
 "nbformat_minor": 0
}