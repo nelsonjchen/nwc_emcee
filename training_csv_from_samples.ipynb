{
 "cells": [
  {
   "cell_type": "markdown",
   "metadata": {
    "pycharm": {
     "name": "#%% md\n"
    }
   },
   "source": [
    "Let's get datablocks.\n"
   ]
  },
  {
   "cell_type": "code",
   "execution_count": 1,
   "metadata": {
    "pycharm": {
     "name": "#%%\n"
    }
   },
   "outputs": [],
   "source": [
    "# Use CPU to prevent hard lockups during development\n",
    "# %env CUDA_VISIBLE_DEVICES=\"\""
   ]
  },
  {
   "cell_type": "code",
   "execution_count": 2,
   "metadata": {
    "pycharm": {
     "name": "#%%\n"
    }
   },
   "outputs": [
    {
     "name": "stdout",
     "output_type": "stream",
     "text": [
      "Set to CPU default\n"
     ]
    },
    {
     "data": {
      "text/plain": [
       "1"
      ]
     },
     "execution_count": 2,
     "metadata": {},
     "output_type": "execute_result"
    }
   ],
   "source": [
    "from fastai.data.all import *\n",
    "from fastai.vision.all import *\n",
    "\n",
    "import fastai.torch_core\n",
    "\n",
    "fastai.torch_core.defaults.device = 'cpu'\n",
    "\n",
    "print(\"Set to CPU default\")\n",
    "torch.cuda.device_count()\n"
   ]
  },
  {
   "cell_type": "markdown",
   "metadata": {
    "collapsed": true,
    "pycharm": {
     "name": "#%% md\n"
    }
   },
   "source": [
    "This is the scheme!\n",
    "\n",
    "```csv\n",
    "# file_name\tscenescore_1\tscore_2\tscore_3\tscore_4\tscore_5\tscore_6\n",
    "```"
   ]
  },
  {
   "cell_type": "code",
   "execution_count": 3,
   "metadata": {
    "pycharm": {
     "name": "#%%\n"
    }
   },
   "outputs": [],
   "source": [
    "from dataclasses import dataclass\n",
    "import natsort\n",
    "import pathlib\n",
    "from typing import List\n",
    "import cv2\n",
    "from numpy.core.multiarray import ndarray\n",
    "from scene import Screen, TitleScreen, MarioGameScreen, RadRacerGameScreen, TetrisGameScreen, ScoreScreen"
   ]
  },
  {
   "cell_type": "code",
   "execution_count": 4,
   "metadata": {
    "pycharm": {
     "name": "#%%\n"
    }
   },
   "outputs": [
    {
     "name": "stdout",
     "output_type": "stream",
     "text": [
      "[Path('samples/snap_10142.png'), Path('samples/snap_10452.png'), Path('samples/snap_10683.png'), Path('samples/snap_1079.png'), Path('samples/snap_11118.png'), Path('samples/snap_120.png'), Path('samples/snap_12417.png'), Path('samples/snap_13042.png'), Path('samples/snap_14042.png'), Path('samples/snap_17935.png'), Path('samples/snap_19519.png'), Path('samples/snap_20038.png'), Path('samples/snap_2078.png'), Path('samples/snap_2387.png'), Path('samples/snap_24277.png'), Path('samples/snap_24356.png'), Path('samples/snap_24523.png'), Path('samples/snap_2576.png'), Path('samples/snap_2791.png'), Path('samples/snap_2969.png'), Path('samples/snap_3177.png'), Path('samples/snap_3267.png'), Path('samples/snap_3490.png'), Path('samples/snap_3558.png'), Path('samples/snap_3644.png'), Path('samples/snap_3898.png'), Path('samples/snap_4361.png'), Path('samples/snap_44501.png'), Path('samples/snap_44578.png'), Path('samples/snap_44806.png'), Path('samples/snap_44930.png'), Path('samples/snap_45095.png'), Path('samples/snap_45307.png'), Path('samples/snap_459.png'), Path('samples/snap_46104.png'), Path('samples/snap_4633.png'), Path('samples/snap_47805.png'), Path('samples/snap_4835.png'), Path('samples/snap_48736.png'), Path('samples/snap_50100.png'), Path('samples/snap_50132.png'), Path('samples/snap_50133.png'), Path('samples/snap_50212.png'), Path('samples/snap_50373.png'), Path('samples/snap_50538.png'), Path('samples/snap_5091.png'), Path('samples/snap_5508.png'), Path('samples/snap_6046.png'), Path('samples/snap_6155.png'), Path('samples/snap_6244.png'), Path('samples/snap_762.png'), Path('samples/snap_857.png'), Path('samples/snap_9632.png')]\n"
     ]
    }
   ],
   "source": [
    "samples_paths = pathlib.Path('samples').glob('*.png')\n",
    "non_yt_sample_paths = [sample for sample in samples_paths if 'yt' not in str(sample)]\n",
    "\n",
    "print(non_yt_sample_paths)"
   ]
  },
  {
   "cell_type": "code",
   "execution_count": 5,
   "metadata": {
    "pycharm": {
     "name": "#%%\n"
    }
   },
   "outputs": [
    {
     "name": "stdout",
     "output_type": "stream",
     "text": [
      "{Path('samples/snap_120.png'): TrainingCsvEntry(path=Path('samples/snap_120.png'), scene_name='n/a', score_0='n/a', score_1='n/a', score_2='n/a', score_3='n/a', score_4='n/a', score_5='n/a'), Path('samples/snap_459.png'): TrainingCsvEntry(path=Path('samples/snap_459.png'), scene_name='n/a', score_0='n/a', score_1='n/a', score_2='n/a', score_3='n/a', score_4='n/a', score_5='n/a'), Path('samples/snap_762.png'): TrainingCsvEntry(path=Path('samples/snap_762.png'), scene_name='MarioGameScreen', score_0='0', score_1='0', score_2='0', score_3='0', score_4='0', score_5='0'), Path('samples/snap_857.png'): TrainingCsvEntry(path=Path('samples/snap_857.png'), scene_name='MarioGameScreen', score_0='0', score_1='0', score_2='0', score_3='0', score_4='0', score_5='0'), Path('samples/snap_1079.png'): TrainingCsvEntry(path=Path('samples/snap_1079.png'), scene_name='MarioGameScreen', score_0='0', score_1='0', score_2='0', score_3='0', score_4='0', score_5='0'), Path('samples/snap_2078.png'): TrainingCsvEntry(path=Path('samples/snap_2078.png'), scene_name='MarioGameScreen', score_0='0', score_1='0', score_2='0', score_3='3', score_4='0', score_5='0'), Path('samples/snap_2387.png'): TrainingCsvEntry(path=Path('samples/snap_2387.png'), scene_name='MarioGameScreen', score_0='0', score_1='0', score_2='0', score_3='3', score_4='0', score_5='0'), Path('samples/snap_2576.png'): TrainingCsvEntry(path=Path('samples/snap_2576.png'), scene_name='MarioGameScreen', score_0='0', score_1='0', score_2='0', score_3='6', score_4='0', score_5='0'), Path('samples/snap_2791.png'): TrainingCsvEntry(path=Path('samples/snap_2791.png'), scene_name='MarioGameScreen', score_0='0', score_1='0', score_2='1', score_3='8', score_4='0', score_5='0'), Path('samples/snap_2969.png'): TrainingCsvEntry(path=Path('samples/snap_2969.png'), scene_name='MarioGameScreen', score_0='0', score_1='0', score_2='1', score_3='8', score_4='0', score_5='0'), Path('samples/snap_3177.png'): TrainingCsvEntry(path=Path('samples/snap_3177.png'), scene_name='MarioGameScreen', score_0='0', score_1='0', score_2='1', score_3='9', score_4='0', score_5='0'), Path('samples/snap_3267.png'): TrainingCsvEntry(path=Path('samples/snap_3267.png'), scene_name='MarioGameScreen', score_0='0', score_1='0', score_2='2', score_3='2', score_4='0', score_5='0'), Path('samples/snap_3490.png'): TrainingCsvEntry(path=Path('samples/snap_3490.png'), scene_name='MarioGameScreen', score_0='0', score_1='0', score_2='3', score_3='0', score_4='0', score_5='0'), Path('samples/snap_3558.png'): TrainingCsvEntry(path=Path('samples/snap_3558.png'), scene_name='MarioGameScreen', score_0='0', score_1='0', score_2='5', score_3='2', score_4='0', score_5='0'), Path('samples/snap_3644.png'): TrainingCsvEntry(path=Path('samples/snap_3644.png'), scene_name='MarioGameScreen', score_0='0', score_1='0', score_2='5', score_3='6', score_4='0', score_5='0'), Path('samples/snap_3898.png'): TrainingCsvEntry(path=Path('samples/snap_3898.png'), scene_name='MarioGameScreen', score_0='0', score_1='0', score_2='6', score_3='0', score_4='0', score_5='0'), Path('samples/snap_4361.png'): TrainingCsvEntry(path=Path('samples/snap_4361.png'), scene_name='MarioGameScreen', score_0='0', score_1='0', score_2='6', score_3='3', score_4='0', score_5='0'), Path('samples/snap_4633.png'): TrainingCsvEntry(path=Path('samples/snap_4633.png'), scene_name='MarioGameScreen', score_0='0', score_1='0', score_2='6', score_3='3', score_4='0', score_5='0'), Path('samples/snap_4835.png'): TrainingCsvEntry(path=Path('samples/snap_4835.png'), scene_name='MarioGameScreen', score_0='0', score_1='1', score_2='6', score_3='5', score_4='5', score_5='0'), Path('samples/snap_5091.png'): TrainingCsvEntry(path=Path('samples/snap_5091.png'), scene_name='MarioGameScreen', score_0='0', score_1='2', score_2='7', score_3='5', score_4='5', score_5='0'), Path('samples/snap_5508.png'): TrainingCsvEntry(path=Path('samples/snap_5508.png'), scene_name='MarioGameScreen', score_0='0', score_1='2', score_2='7', score_3='5', score_4='5', score_5='0'), Path('samples/snap_6046.png'): TrainingCsvEntry(path=Path('samples/snap_6046.png'), scene_name='MarioGameScreen', score_0='0', score_1='2', score_2='8', score_3='1', score_4='5', score_5='0'), Path('samples/snap_6155.png'): TrainingCsvEntry(path=Path('samples/snap_6155.png'), scene_name='MarioGameScreen', score_0='0', score_1='2', score_2='8', score_3='5', score_4='5', score_5='0'), Path('samples/snap_6244.png'): TrainingCsvEntry(path=Path('samples/snap_6244.png'), scene_name='MarioGameScreen', score_0='0', score_1='2', score_2='8', score_3='6', score_4='5', score_5='0'), Path('samples/snap_9632.png'): TrainingCsvEntry(path=Path('samples/snap_9632.png'), scene_name='n/a', score_0='n/a', score_1='n/a', score_2='n/a', score_3='n/a', score_4='n/a', score_5='n/a'), Path('samples/snap_10142.png'): TrainingCsvEntry(path=Path('samples/snap_10142.png'), scene_name='n/a', score_0='n/a', score_1='n/a', score_2='n/a', score_3='n/a', score_4='n/a', score_5='n/a'), Path('samples/snap_10452.png'): TrainingCsvEntry(path=Path('samples/snap_10452.png'), scene_name='RadRacerGameScreen', score_0='0', score_1='0', score_2='0', score_3='0', score_4='1', score_5='1'), Path('samples/snap_10683.png'): TrainingCsvEntry(path=Path('samples/snap_10683.png'), scene_name='RadRacerGameScreen', score_0='0', score_1='0', score_2='0', score_3='0', score_4='7', score_5='0'), Path('samples/snap_11118.png'): TrainingCsvEntry(path=Path('samples/snap_11118.png'), scene_name='RadRacerGameScreen', score_0='0', score_1='0', score_2='0', score_3='3', score_4='3', score_5='2'), Path('samples/snap_12417.png'): TrainingCsvEntry(path=Path('samples/snap_12417.png'), scene_name='RadRacerGameScreen', score_0='0', score_1='0', score_2='0', score_3='9', score_4='0', score_5='0'), Path('samples/snap_13042.png'): TrainingCsvEntry(path=Path('samples/snap_13042.png'), scene_name='RadRacerGameScreen', score_0='0', score_1='0', score_2='1', score_3='4', score_4='0', score_5='6'), Path('samples/snap_14042.png'): TrainingCsvEntry(path=Path('samples/snap_14042.png'), scene_name='RadRacerGameScreen', score_0='0', score_1='0', score_2='2', score_3='3', score_4='4', score_5='9'), Path('samples/snap_17935.png'): TrainingCsvEntry(path=Path('samples/snap_17935.png'), scene_name='RadRacerGameScreen', score_0='0', score_1='0', score_2='5', score_3='6', score_4='4', score_5='9'), Path('samples/snap_19519.png'): TrainingCsvEntry(path=Path('samples/snap_19519.png'), scene_name='n/a', score_0='n/a', score_1='n/a', score_2='n/a', score_3='n/a', score_4='n/a', score_5='n/a'), Path('samples/snap_20038.png'): TrainingCsvEntry(path=Path('samples/snap_20038.png'), scene_name='TetrisGameScreen', score_0='0', score_1='0', score_2='0', score_3='0', score_4='1', score_5='1'), Path('samples/snap_24277.png'): TrainingCsvEntry(path=Path('samples/snap_24277.png'), scene_name='n/a', score_0='n/a', score_1='n/a', score_2='n/a', score_3='n/a', score_4='n/a', score_5='n/a'), Path('samples/snap_24356.png'): TrainingCsvEntry(path=Path('samples/snap_24356.png'), scene_name='n/a', score_0='n/a', score_1='n/a', score_2='n/a', score_3='n/a', score_4='n/a', score_5='n/a'), Path('samples/snap_24523.png'): TrainingCsvEntry(path=Path('samples/snap_24523.png'), scene_name='n/a', score_0='n/a', score_1='n/a', score_2='n/a', score_3='n/a', score_4='n/a', score_5='n/a'), Path('samples/snap_44501.png'): TrainingCsvEntry(path=Path('samples/snap_44501.png'), scene_name='n/a', score_0='n/a', score_1='n/a', score_2='n/a', score_3='n/a', score_4='n/a', score_5='n/a'), Path('samples/snap_44578.png'): TrainingCsvEntry(path=Path('samples/snap_44578.png'), scene_name='n/a', score_0='n/a', score_1='n/a', score_2='n/a', score_3='n/a', score_4='n/a', score_5='n/a'), Path('samples/snap_44806.png'): TrainingCsvEntry(path=Path('samples/snap_44806.png'), scene_name='TetrisGameScreen', score_0='0', score_1='0', score_2='0', score_3='0', score_4='1', score_5='2'), Path('samples/snap_44930.png'): TrainingCsvEntry(path=Path('samples/snap_44930.png'), scene_name='TetrisGameScreen', score_0='0', score_1='0', score_2='0', score_3='0', score_4='2', score_5='3'), Path('samples/snap_45095.png'): TrainingCsvEntry(path=Path('samples/snap_45095.png'), scene_name='TetrisGameScreen', score_0='0', score_1='0', score_2='0', score_3='0', score_4='3', score_5='3'), Path('samples/snap_45307.png'): TrainingCsvEntry(path=Path('samples/snap_45307.png'), scene_name='TetrisGameScreen', score_0='0', score_1='0', score_2='0', score_3='0', score_4='9', score_5='4'), Path('samples/snap_46104.png'): TrainingCsvEntry(path=Path('samples/snap_46104.png'), scene_name='TetrisGameScreen', score_0='0', score_1='0', score_2='0', score_3='1', score_4='9', score_5='0'), Path('samples/snap_47805.png'): TrainingCsvEntry(path=Path('samples/snap_47805.png'), scene_name='TetrisGameScreen', score_0='0', score_1='0', score_2='0', score_3='5', score_4='3', score_5='2'), Path('samples/snap_48736.png'): TrainingCsvEntry(path=Path('samples/snap_48736.png'), scene_name='TetrisGameScreen', score_0='0', score_1='0', score_2='0', score_3='7', score_4='6', score_5='4'), Path('samples/snap_50100.png'): TrainingCsvEntry(path=Path('samples/snap_50100.png'), scene_name='TetrisGameScreen', score_0='0', score_1='0', score_2='1', score_3='5', score_4='9', score_5='3'), Path('samples/snap_50132.png'): TrainingCsvEntry(path=Path('samples/snap_50132.png'), scene_name='TetrisGameScreen', score_0='0', score_1='0', score_2='1', score_3='5', score_4='9', score_5='3'), Path('samples/snap_50133.png'): TrainingCsvEntry(path=Path('samples/snap_50133.png'), scene_name='TetrisGameScreen', score_0='0', score_1='0', score_2='1', score_3='5', score_4='9', score_5='3'), Path('samples/snap_50212.png'): TrainingCsvEntry(path=Path('samples/snap_50212.png'), scene_name='TetrisGameScreen', score_0='0', score_1='0', score_2='1', score_3='5', score_4='9', score_5='3'), Path('samples/snap_50373.png'): TrainingCsvEntry(path=Path('samples/snap_50373.png'), scene_name='n/a', score_0='n/a', score_1='n/a', score_2='n/a', score_3='n/a', score_4='n/a', score_5='n/a'), Path('samples/snap_50538.png'): TrainingCsvEntry(path=Path('samples/snap_50538.png'), scene_name='n/a', score_0='n/a', score_1='n/a', score_2='n/a', score_3='n/a', score_4='n/a', score_5='n/a')}\n"
     ]
    }
   ],
   "source": [
    "screens: List[Screen] = [\n",
    "    TitleScreen(),\n",
    "    MarioGameScreen(),\n",
    "    RadRacerGameScreen(),\n",
    "    TetrisGameScreen(),\n",
    "]\n",
    "\n",
    "@dataclass\n",
    "class TrainingCsvEntry:\n",
    "    path: str\n",
    "    scene_name: str\n",
    "    score_0: str=\"n/a\"\n",
    "    score_1: str=\"n/a\"\n",
    "    score_2: str=\"n/a\"\n",
    "    score_3: str=\"n/a\"\n",
    "    score_4: str=\"n/a\"\n",
    "    score_5: str=\"n/a\"\n",
    "\n",
    "def process_path(path: pathlib.Path):\n",
    "\n",
    "    hsv_image = cv2.imread(str(path))\n",
    "\n",
    "    frame = cv2.resize(hsv_image, (256, 224))\n",
    "\n",
    "    for screen in screens:\n",
    "        hsv_image = cv2.cvtColor(frame, cv2.COLOR_BGR2HSV)\n",
    "\n",
    "        if screen.match(hsv_image):\n",
    "            if isinstance(screen, ScoreScreen):\n",
    "                score = screen.score(hsv_image)\n",
    "                score_list = list(f'{score:06}')\n",
    "                return TrainingCsvEntry(\n",
    "                    path=path,\n",
    "                    scene_name = screen.__class__.__name__,\n",
    "                    score_0=score_list[0],\n",
    "                    score_1=score_list[1],\n",
    "                    score_2=score_list[2],\n",
    "                    score_3=score_list[3],\n",
    "                    score_4=score_list[4],\n",
    "                    score_5=score_list[5],\n",
    "                )\n",
    "    return TrainingCsvEntry(\n",
    "        path=path,\n",
    "        scene_name=\"n/a\",\n",
    "    )\n",
    "\n",
    "\n",
    "csv_data = {sample_path: process_path(sample_path) for sample_path in natsort.os_sorted(non_yt_sample_paths)}\n",
    "\n",
    "print(csv_data)"
   ]
  },
  {
   "cell_type": "code",
   "execution_count": 6,
   "metadata": {
    "pycharm": {
     "name": "#%%\n"
    }
   },
   "outputs": [
    {
     "name": "stdout",
     "output_type": "stream",
     "text": [
      "setup!\n"
     ]
    }
   ],
   "source": [
    "from fastai.data.all import *\n",
    "from fastai.vision.all import *\n",
    "\n",
    "number_values = [\n",
    "    'n/a',\n",
    "    '0',\n",
    "    '1',\n",
    "    '2',\n",
    "    '3',\n",
    "    '4',\n",
    "    '5',\n",
    "    '6',\n",
    "    '7',\n",
    "    '8',\n",
    "    '9',\n",
    "]\n",
    "\n",
    "NumberCategoryBlock = CategoryBlock(vocab=number_values)\n",
    "\n",
    "SceneCategoryBlock = CategoryBlock(vocab=[\n",
    "    'n/a',\n",
    "    'TitleScreen',\n",
    "    'MarioGameScreen',\n",
    "    'RadRacerGameScreen',\n",
    "    'TetrisGameScreen',\n",
    "])\n",
    "\n",
    "def label_func(o):\n",
    "    print(repr(o))\n",
    "    return o\n",
    "\n",
    "\n",
    "\n",
    "dblock = DataBlock(\n",
    "    blocks=(\n",
    "        ImageBlock,\n",
    "        SceneCategoryBlock,\n",
    "        NumberCategoryBlock,\n",
    "        NumberCategoryBlock,\n",
    "        NumberCategoryBlock,\n",
    "        NumberCategoryBlock,\n",
    "        NumberCategoryBlock,\n",
    "        NumberCategoryBlock,\n",
    "    ),\n",
    "\n",
    "    get_y=[\n",
    "        lambda path: csv_data[path].scene_name,\n",
    "        lambda path: csv_data[path].score_0,\n",
    "        lambda path: csv_data[path].score_1,\n",
    "        lambda path: csv_data[path].score_2,\n",
    "        lambda path: csv_data[path].score_3,\n",
    "        lambda path: csv_data[path].score_4,\n",
    "        lambda path: csv_data[path].score_5,\n",
    "    ],\n",
    "    splitter=RandomSplitter(),\n",
    "    item_tfms = Resize(256),\n",
    "    n_inp=1, )\n",
    "print(\"setup!\")\n"
   ]
  },
  {
   "cell_type": "code",
   "execution_count": 7,
   "metadata": {
    "pycharm": {
     "name": "#%%\n"
    }
   },
   "outputs": [
    {
     "name": "stdout",
     "output_type": "stream",
     "text": [
      "Setting-up type transforms pipelines\n",
      "Collecting items from dict_keys([Path('samples/snap_120.png'), Path('samples/snap_459.png'), Path('samples/snap_762.png'), Path('samples/snap_857.png'), Path('samples/snap_1079.png'), Path('samples/snap_2078.png'), Path('samples/snap_2387.png'), Path('samples/snap_2576.png'), Path('samples/snap_2791.png'), Path('samples/snap_2969.png'), Path('samples/snap_3177.png'), Path('samples/snap_3267.png'), Path('samples/snap_3490.png'), Path('samples/snap_3558.png'), Path('samples/snap_3644.png'), Path('samples/snap_3898.png'), Path('samples/snap_4361.png'), Path('samples/snap_4633.png'), Path('samples/snap_4835.png'), Path('samples/snap_5091.png'), Path('samples/snap_5508.png'), Path('samples/snap_6046.png'), Path('samples/snap_6155.png'), Path('samples/snap_6244.png'), Path('samples/snap_9632.png'), Path('samples/snap_10142.png'), Path('samples/snap_10452.png'), Path('samples/snap_10683.png'), Path('samples/snap_11118.png'), Path('samples/snap_12417.png'), Path('samples/snap_13042.png'), Path('samples/snap_14042.png'), Path('samples/snap_17935.png'), Path('samples/snap_19519.png'), Path('samples/snap_20038.png'), Path('samples/snap_24277.png'), Path('samples/snap_24356.png'), Path('samples/snap_24523.png'), Path('samples/snap_44501.png'), Path('samples/snap_44578.png'), Path('samples/snap_44806.png'), Path('samples/snap_44930.png'), Path('samples/snap_45095.png'), Path('samples/snap_45307.png'), Path('samples/snap_46104.png'), Path('samples/snap_47805.png'), Path('samples/snap_48736.png'), Path('samples/snap_50100.png'), Path('samples/snap_50132.png'), Path('samples/snap_50133.png'), Path('samples/snap_50212.png'), Path('samples/snap_50373.png'), Path('samples/snap_50538.png')])\n",
      "Found 53 items\n",
      "2 datasets of sizes 43,10\n",
      "Setting up Pipeline: PILBase.create\n",
      "Setting up Pipeline: <lambda> -> Categorize -- {'vocab': ['MarioGameScreen', 'RadRacerGameScreen', 'TetrisGameScreen', 'TitleScreen', 'n/a'], 'sort': True, 'add_na': False}\n",
      "Setting up Pipeline: <lambda> -> Categorize -- {'vocab': ['0', '1', '2', '3', '4', '5', '6', '7', '8', '9', 'n/a'], 'sort': True, 'add_na': False}\n",
      "Setting up Pipeline: <lambda> -> Categorize -- {'vocab': ['0', '1', '2', '3', '4', '5', '6', '7', '8', '9', 'n/a'], 'sort': True, 'add_na': False}\n",
      "Setting up Pipeline: <lambda> -> Categorize -- {'vocab': ['0', '1', '2', '3', '4', '5', '6', '7', '8', '9', 'n/a'], 'sort': True, 'add_na': False}\n",
      "Setting up Pipeline: <lambda> -> Categorize -- {'vocab': ['0', '1', '2', '3', '4', '5', '6', '7', '8', '9', 'n/a'], 'sort': True, 'add_na': False}\n",
      "Setting up Pipeline: <lambda> -> Categorize -- {'vocab': ['0', '1', '2', '3', '4', '5', '6', '7', '8', '9', 'n/a'], 'sort': True, 'add_na': False}\n",
      "Setting up Pipeline: <lambda> -> Categorize -- {'vocab': ['0', '1', '2', '3', '4', '5', '6', '7', '8', '9', 'n/a'], 'sort': True, 'add_na': False}\n",
      "\n",
      "Building one sample\n",
      "  Pipeline: PILBase.create\n",
      "    starting from\n",
      "      samples\\snap_4835.png\n",
      "    applying PILBase.create gives\n",
      "      PILImage mode=RGB size=256x224\n",
      "  Pipeline: <lambda> -> Categorize -- {'vocab': ['MarioGameScreen', 'RadRacerGameScreen', 'TetrisGameScreen', 'TitleScreen', 'n/a'], 'sort': True, 'add_na': False}\n",
      "    starting from\n",
      "      samples\\snap_4835.png\n",
      "    applying <lambda> gives\n",
      "      MarioGameScreen\n",
      "    applying Categorize -- {'vocab': ['MarioGameScreen', 'RadRacerGameScreen', 'TetrisGameScreen', 'TitleScreen', 'n/a'], 'sort': True, 'add_na': False} gives\n",
      "      TensorCategory(0, dtype=torch.int32)\n",
      "  Pipeline: <lambda> -> Categorize -- {'vocab': ['0', '1', '2', '3', '4', '5', '6', '7', '8', '9', 'n/a'], 'sort': True, 'add_na': False}\n",
      "    starting from\n",
      "      samples\\snap_4835.png\n",
      "    applying <lambda> gives\n",
      "      0\n",
      "    applying Categorize -- {'vocab': ['0', '1', '2', '3', '4', '5', '6', '7', '8', '9', 'n/a'], 'sort': True, 'add_na': False} gives\n",
      "      TensorCategory(0, dtype=torch.int32)\n",
      "  Pipeline: <lambda> -> Categorize -- {'vocab': ['0', '1', '2', '3', '4', '5', '6', '7', '8', '9', 'n/a'], 'sort': True, 'add_na': False}\n",
      "    starting from\n",
      "      samples\\snap_4835.png\n",
      "    applying <lambda> gives\n",
      "      1\n",
      "    applying Categorize -- {'vocab': ['0', '1', '2', '3', '4', '5', '6', '7', '8', '9', 'n/a'], 'sort': True, 'add_na': False} gives\n",
      "      TensorCategory(1, dtype=torch.int32)\n",
      "  Pipeline: <lambda> -> Categorize -- {'vocab': ['0', '1', '2', '3', '4', '5', '6', '7', '8', '9', 'n/a'], 'sort': True, 'add_na': False}\n",
      "    starting from\n",
      "      samples\\snap_4835.png\n",
      "    applying <lambda> gives\n",
      "      6\n",
      "    applying Categorize -- {'vocab': ['0', '1', '2', '3', '4', '5', '6', '7', '8', '9', 'n/a'], 'sort': True, 'add_na': False} gives\n",
      "      TensorCategory(6, dtype=torch.int32)\n",
      "  Pipeline: <lambda> -> Categorize -- {'vocab': ['0', '1', '2', '3', '4', '5', '6', '7', '8', '9', 'n/a'], 'sort': True, 'add_na': False}\n",
      "    starting from\n",
      "      samples\\snap_4835.png\n",
      "    applying <lambda> gives\n",
      "      5\n",
      "    applying Categorize -- {'vocab': ['0', '1', '2', '3', '4', '5', '6', '7', '8', '9', 'n/a'], 'sort': True, 'add_na': False} gives\n",
      "      TensorCategory(5, dtype=torch.int32)\n",
      "  Pipeline: <lambda> -> Categorize -- {'vocab': ['0', '1', '2', '3', '4', '5', '6', '7', '8', '9', 'n/a'], 'sort': True, 'add_na': False}\n",
      "    starting from\n",
      "      samples\\snap_4835.png\n",
      "    applying <lambda> gives\n",
      "      5\n",
      "    applying Categorize -- {'vocab': ['0', '1', '2', '3', '4', '5', '6', '7', '8', '9', 'n/a'], 'sort': True, 'add_na': False} gives\n",
      "      TensorCategory(5, dtype=torch.int32)\n",
      "  Pipeline: <lambda> -> Categorize -- {'vocab': ['0', '1', '2', '3', '4', '5', '6', '7', '8', '9', 'n/a'], 'sort': True, 'add_na': False}\n",
      "    starting from\n",
      "      samples\\snap_4835.png\n",
      "    applying <lambda> gives\n",
      "      0\n",
      "    applying Categorize -- {'vocab': ['0', '1', '2', '3', '4', '5', '6', '7', '8', '9', 'n/a'], 'sort': True, 'add_na': False} gives\n",
      "      TensorCategory(0, dtype=torch.int32)\n",
      "\n",
      "Final sample: (PILImage mode=RGB size=256x224, TensorCategory(0, dtype=torch.int32), TensorCategory(0, dtype=torch.int32), TensorCategory(1, dtype=torch.int32), TensorCategory(6, dtype=torch.int32), TensorCategory(5, dtype=torch.int32), TensorCategory(5, dtype=torch.int32), TensorCategory(0, dtype=torch.int32))\n",
      "\n",
      "\n",
      "Collecting items from dict_keys([Path('samples/snap_120.png'), Path('samples/snap_459.png'), Path('samples/snap_762.png'), Path('samples/snap_857.png'), Path('samples/snap_1079.png'), Path('samples/snap_2078.png'), Path('samples/snap_2387.png'), Path('samples/snap_2576.png'), Path('samples/snap_2791.png'), Path('samples/snap_2969.png'), Path('samples/snap_3177.png'), Path('samples/snap_3267.png'), Path('samples/snap_3490.png'), Path('samples/snap_3558.png'), Path('samples/snap_3644.png'), Path('samples/snap_3898.png'), Path('samples/snap_4361.png'), Path('samples/snap_4633.png'), Path('samples/snap_4835.png'), Path('samples/snap_5091.png'), Path('samples/snap_5508.png'), Path('samples/snap_6046.png'), Path('samples/snap_6155.png'), Path('samples/snap_6244.png'), Path('samples/snap_9632.png'), Path('samples/snap_10142.png'), Path('samples/snap_10452.png'), Path('samples/snap_10683.png'), Path('samples/snap_11118.png'), Path('samples/snap_12417.png'), Path('samples/snap_13042.png'), Path('samples/snap_14042.png'), Path('samples/snap_17935.png'), Path('samples/snap_19519.png'), Path('samples/snap_20038.png'), Path('samples/snap_24277.png'), Path('samples/snap_24356.png'), Path('samples/snap_24523.png'), Path('samples/snap_44501.png'), Path('samples/snap_44578.png'), Path('samples/snap_44806.png'), Path('samples/snap_44930.png'), Path('samples/snap_45095.png'), Path('samples/snap_45307.png'), Path('samples/snap_46104.png'), Path('samples/snap_47805.png'), Path('samples/snap_48736.png'), Path('samples/snap_50100.png'), Path('samples/snap_50132.png'), Path('samples/snap_50133.png'), Path('samples/snap_50212.png'), Path('samples/snap_50373.png'), Path('samples/snap_50538.png')])\n",
      "Found 53 items\n",
      "2 datasets of sizes 43,10\n",
      "Setting up Pipeline: PILBase.create\n",
      "Setting up Pipeline: <lambda> -> Categorize -- {'vocab': ['MarioGameScreen', 'RadRacerGameScreen', 'TetrisGameScreen', 'TitleScreen', 'n/a'], 'sort': True, 'add_na': False}\n",
      "Setting up Pipeline: <lambda> -> Categorize -- {'vocab': ['0', '1', '2', '3', '4', '5', '6', '7', '8', '9', 'n/a'], 'sort': True, 'add_na': False}\n",
      "Setting up Pipeline: <lambda> -> Categorize -- {'vocab': ['0', '1', '2', '3', '4', '5', '6', '7', '8', '9', 'n/a'], 'sort': True, 'add_na': False}\n",
      "Setting up Pipeline: <lambda> -> Categorize -- {'vocab': ['0', '1', '2', '3', '4', '5', '6', '7', '8', '9', 'n/a'], 'sort': True, 'add_na': False}\n",
      "Setting up Pipeline: <lambda> -> Categorize -- {'vocab': ['0', '1', '2', '3', '4', '5', '6', '7', '8', '9', 'n/a'], 'sort': True, 'add_na': False}\n",
      "Setting up Pipeline: <lambda> -> Categorize -- {'vocab': ['0', '1', '2', '3', '4', '5', '6', '7', '8', '9', 'n/a'], 'sort': True, 'add_na': False}\n",
      "Setting up Pipeline: <lambda> -> Categorize -- {'vocab': ['0', '1', '2', '3', '4', '5', '6', '7', '8', '9', 'n/a'], 'sort': True, 'add_na': False}\n",
      "Setting up after_item: Pipeline: Resize -- {'size': (256, 256), 'method': 'crop', 'pad_mode': 'reflection', 'resamples': (2, 0), 'p': 1.0} -> ToTensor\n",
      "Setting up before_batch: Pipeline: \n",
      "Setting up after_batch: Pipeline: IntToFloatTensor -- {'div': 255.0, 'div_mask': 1}\n",
      "\n",
      "Building one batch\n",
      "Applying item_tfms to the first sample:\n",
      "  Pipeline: Resize -- {'size': (256, 256), 'method': 'crop', 'pad_mode': 'reflection', 'resamples': (2, 0), 'p': 1.0} -> ToTensor\n",
      "    starting from\n",
      "      (PILImage mode=RGB size=256x224, TensorCategory(0, dtype=torch.int32), TensorCategory(0, dtype=torch.int32), TensorCategory(1, dtype=torch.int32), TensorCategory(6, dtype=torch.int32), TensorCategory(5, dtype=torch.int32), TensorCategory(5, dtype=torch.int32), TensorCategory(0, dtype=torch.int32))\n",
      "    applying Resize -- {'size': (256, 256), 'method': 'crop', 'pad_mode': 'reflection', 'resamples': (2, 0), 'p': 1.0} gives\n",
      "      (PILImage mode=RGB size=256x256, TensorCategory(0, dtype=torch.int32), TensorCategory(0, dtype=torch.int32), TensorCategory(1, dtype=torch.int32), TensorCategory(6, dtype=torch.int32), TensorCategory(5, dtype=torch.int32), TensorCategory(5, dtype=torch.int32), TensorCategory(0, dtype=torch.int32))\n",
      "    applying ToTensor gives\n",
      "      (TensorImage of size 3x256x256, TensorCategory(0, dtype=torch.int32), TensorCategory(0, dtype=torch.int32), TensorCategory(1, dtype=torch.int32), TensorCategory(6, dtype=torch.int32), TensorCategory(5, dtype=torch.int32), TensorCategory(5, dtype=torch.int32), TensorCategory(0, dtype=torch.int32))\n",
      "\n",
      "Adding the next 3 samples\n",
      "\n",
      "No before_batch transform to apply\n",
      "\n",
      "Collating items in a batch\n",
      "\n",
      "Applying batch_tfms to the batch built\n",
      "  Pipeline: IntToFloatTensor -- {'div': 255.0, 'div_mask': 1}\n",
      "    starting from\n",
      "      (TensorImage of size 4x3x256x256, TensorCategory([0, 0, 0, 1], device='cuda:0', dtype=torch.int32), TensorCategory([0, 0, 0, 0], device='cuda:0', dtype=torch.int32), TensorCategory([1, 0, 2, 0], device='cuda:0', dtype=torch.int32), TensorCategory([6, 5, 7, 2], device='cuda:0', dtype=torch.int32), TensorCategory([5, 6, 5, 3], device='cuda:0', dtype=torch.int32), TensorCategory([5, 0, 5, 4], device='cuda:0', dtype=torch.int32), TensorCategory([0, 0, 0, 9], device='cuda:0', dtype=torch.int32))\n",
      "    applying IntToFloatTensor -- {'div': 255.0, 'div_mask': 1} gives\n",
      "      (TensorImage of size 4x3x256x256, TensorCategory([0, 0, 0, 1], device='cuda:0', dtype=torch.int32), TensorCategory([0, 0, 0, 0], device='cuda:0', dtype=torch.int32), TensorCategory([1, 0, 2, 0], device='cuda:0', dtype=torch.int32), TensorCategory([6, 5, 7, 2], device='cuda:0', dtype=torch.int32), TensorCategory([5, 6, 5, 3], device='cuda:0', dtype=torch.int32), TensorCategory([5, 0, 5, 4], device='cuda:0', dtype=torch.int32), TensorCategory([0, 0, 0, 9], device='cuda:0', dtype=torch.int32))\n",
      "can this load the paths!\n"
     ]
    }
   ],
   "source": [
    "dblock.summary(csv_data.keys())\n",
    "print(\"can this load the paths!\")"
   ]
  },
  {
   "cell_type": "code",
   "execution_count": 8,
   "metadata": {
    "pycharm": {
     "name": "#%%\n"
    }
   },
   "outputs": [
    {
     "data": {
      "text/plain": [
       "(#7) [['MarioGameScreen', 'RadRacerGameScreen', 'TetrisGameScreen', 'TitleScreen', 'n/a'],['0', '1', '2', '3', '4', '5', '6', '7', '8', '9', 'n/a'],['0', '1', '2', '3', '4', '5', '6', '7', '8', '9', 'n/a'],['0', '1', '2', '3', '4', '5', '6', '7', '8', '9', 'n/a'],['0', '1', '2', '3', '4', '5', '6', '7', '8', '9', 'n/a'],['0', '1', '2', '3', '4', '5', '6', '7', '8', '9', 'n/a'],['0', '1', '2', '3', '4', '5', '6', '7', '8', '9', 'n/a']]"
      ]
     },
     "execution_count": 8,
     "metadata": {},
     "output_type": "execute_result"
    }
   ],
   "source": [
    "dsets = dblock.datasets(csv_data.keys())\n",
    "dsets[0]\n",
    "dsets.vocab"
   ]
  },
  {
   "cell_type": "code",
   "execution_count": 9,
   "metadata": {
    "pycharm": {
     "name": "#%%\n"
    }
   },
   "outputs": [
    {
     "data": {
      "text/plain": [
       "fastai.torch_core.TensorCategory"
      ]
     },
     "execution_count": 9,
     "metadata": {},
     "output_type": "execute_result"
    }
   ],
   "source": [
    "type(dsets[5][1])"
   ]
  },
  {
   "cell_type": "code",
   "execution_count": 10,
   "metadata": {
    "pycharm": {
     "name": "#%%\n"
    }
   },
   "outputs": [
    {
     "data": {
      "text/plain": [
       "[Path('samples/snap_120.png'),\n",
       " Path('samples/snap_459.png'),\n",
       " Path('samples/snap_762.png'),\n",
       " Path('samples/snap_857.png'),\n",
       " Path('samples/snap_1079.png'),\n",
       " Path('samples/snap_2078.png'),\n",
       " Path('samples/snap_2387.png'),\n",
       " Path('samples/snap_2576.png'),\n",
       " Path('samples/snap_2791.png'),\n",
       " Path('samples/snap_2969.png'),\n",
       " Path('samples/snap_3177.png'),\n",
       " Path('samples/snap_3267.png'),\n",
       " Path('samples/snap_3490.png'),\n",
       " Path('samples/snap_3558.png'),\n",
       " Path('samples/snap_3644.png'),\n",
       " Path('samples/snap_3898.png'),\n",
       " Path('samples/snap_4361.png'),\n",
       " Path('samples/snap_4633.png'),\n",
       " Path('samples/snap_4835.png'),\n",
       " Path('samples/snap_5091.png'),\n",
       " Path('samples/snap_5508.png'),\n",
       " Path('samples/snap_6046.png'),\n",
       " Path('samples/snap_6155.png'),\n",
       " Path('samples/snap_6244.png'),\n",
       " Path('samples/snap_9632.png'),\n",
       " Path('samples/snap_10142.png'),\n",
       " Path('samples/snap_10452.png'),\n",
       " Path('samples/snap_10683.png'),\n",
       " Path('samples/snap_11118.png'),\n",
       " Path('samples/snap_12417.png'),\n",
       " Path('samples/snap_13042.png'),\n",
       " Path('samples/snap_14042.png'),\n",
       " Path('samples/snap_17935.png'),\n",
       " Path('samples/snap_19519.png'),\n",
       " Path('samples/snap_20038.png'),\n",
       " Path('samples/snap_24277.png'),\n",
       " Path('samples/snap_24356.png'),\n",
       " Path('samples/snap_24523.png'),\n",
       " Path('samples/snap_44501.png'),\n",
       " Path('samples/snap_44578.png'),\n",
       " Path('samples/snap_44806.png'),\n",
       " Path('samples/snap_44930.png'),\n",
       " Path('samples/snap_45095.png'),\n",
       " Path('samples/snap_45307.png'),\n",
       " Path('samples/snap_46104.png'),\n",
       " Path('samples/snap_47805.png'),\n",
       " Path('samples/snap_48736.png'),\n",
       " Path('samples/snap_50100.png'),\n",
       " Path('samples/snap_50132.png'),\n",
       " Path('samples/snap_50133.png'),\n",
       " Path('samples/snap_50212.png'),\n",
       " Path('samples/snap_50373.png'),\n",
       " Path('samples/snap_50538.png')]"
      ]
     },
     "execution_count": 10,
     "metadata": {},
     "output_type": "execute_result"
    }
   ],
   "source": [
    "list(csv_data.keys())"
   ]
  },
  {
   "cell_type": "code",
   "execution_count": 11,
   "metadata": {
    "pycharm": {
     "name": "#%%\n"
    }
   },
   "outputs": [
    {
     "data": {
      "image/png": "[encoded data removed]",
      "text/plain": [
       "<Figure size 648x648 with 9 Axes>"
      ]
     },
     "metadata": {
      "needs_background": "light"
     },
     "output_type": "display_data"
    }
   ],
   "source": [
    "dls = dblock.dataloaders(csv_data.keys(), bs=10, num_workers=0)\n",
    "dls.show_batch()"
   ]
  },
  {
   "cell_type": "code",
   "execution_count": 12,
   "metadata": {
    "pycharm": {
     "name": "#%%\n"
    }
   },
   "outputs": [
    {
     "data": {
      "text/plain": [
       "(#7) [FlattenedLoss of CrossEntropyLoss(),FlattenedLoss of CrossEntropyLoss(),FlattenedLoss of CrossEntropyLoss(),FlattenedLoss of CrossEntropyLoss(),FlattenedLoss of CrossEntropyLoss(),FlattenedLoss of CrossEntropyLoss(),FlattenedLoss of CrossEntropyLoss()]"
      ]
     },
     "execution_count": 12,
     "metadata": {},
     "output_type": "execute_result"
    }
   ],
   "source": [
    "dls.loss_func"
   ]
  },
  {
   "cell_type": "code",
   "execution_count": 13,
   "metadata": {
    "pycharm": {
     "name": "#%%\n"
    }
   },
   "outputs": [
    {
     "name": "stdout",
     "output_type": "stream",
     "text": [
      "Defined MultiTaskModel\n",
      "Definied MultiTaskLossWrapper\n"
     ]
    }
   ],
   "source": [
    "class MultiTaskModel(nn.Module):\n",
    "    \"\"\"\n",
    "    Creates a MTL model with the encoder from \"arch\" and with dropout multiplier ps.\n",
    "    \"\"\"\n",
    "    def __init__(self, arch,ps=0.5):\n",
    "        super(MultiTaskModel,self).__init__()\n",
    "        self.encoder = create_body(arch)        #fastai function that creates an encoder given an architecture\n",
    "        self.fc_scene_name = create_head(1024,len(number_values),ps=ps)\n",
    "        self.fc_score_0 = create_head(1024,len(number_values),ps=ps)\n",
    "        self.fc_score_1 = create_head(1024,len(number_values),ps=ps)\n",
    "        self.fc_score_2 = create_head(1024,len(number_values),ps=ps)\n",
    "        self.fc_score_3 = create_head(1024,len(number_values),ps=ps)\n",
    "        self.fc_score_4 = create_head(1024,len(number_values),ps=ps)\n",
    "        self.fc_score_5 = create_head(1024,len(number_values),ps=ps)\n",
    "\n",
    "    def forward(self,x):\n",
    "\n",
    "        x = self.encoder(x)\n",
    "        scene_name = self.fc_scene_name(x)\n",
    "        score_0 = self.fc_score_0(x)\n",
    "        score_1 = self.fc_score_1(x)\n",
    "        score_2 = self.fc_score_2(x)\n",
    "        score_3 = self.fc_score_3(x)\n",
    "        score_4 = self.fc_score_4(x)\n",
    "        score_5 = self.fc_score_5(x)\n",
    "\n",
    "        return [scene_name, score_0, score_1, score_2, score_3, score_4, score_5]\n",
    "\n",
    "print(\"Defined MultiTaskModel\")\n",
    "\n",
    "\n",
    "class MultiTaskLossWrapper(nn.Module):\n",
    "    def __init__(self, task_num):\n",
    "        super(MultiTaskLossWrapper, self).__init__()\n",
    "        self.task_num = task_num\n",
    "        self.log_vars = nn.Parameter(torch.zeros((task_num)))\n",
    "\n",
    "    def forward(self,\n",
    "                preds,\n",
    "                scene_name,\n",
    "                score_0,\n",
    "                score_1,\n",
    "                score_2,\n",
    "                score_3,\n",
    "                score_4,\n",
    "                score_5\n",
    "                ):\n",
    "\n",
    "\n",
    "        loss0 = dls.loss_func[0](preds[0], scene_name)\n",
    "        loss1 = dls.loss_func[1](preds[1], score_0)\n",
    "        loss2 = dls.loss_func[2](preds[2], score_1)\n",
    "        loss3 = dls.loss_func[3](preds[2], score_2)\n",
    "        loss4 = dls.loss_func[4](preds[2], score_3)\n",
    "        loss5 = dls.loss_func[5](preds[2], score_4)\n",
    "        loss6 = dls.loss_func[6](preds[2], score_5)\n",
    "\n",
    "\n",
    "        precision0 = torch.exp(-self.log_vars[0])\n",
    "        loss0 = precision0*loss0 + self.log_vars[0]\n",
    "\n",
    "        precision1 = torch.exp(-self.log_vars[1])\n",
    "        loss1 = precision1*loss1 + self.log_vars[1]\n",
    "\n",
    "        precision2 = torch.exp(-self.log_vars[2])\n",
    "        loss2 = precision2*loss2 + self.log_vars[2]\n",
    "\n",
    "        precision3 = torch.exp(-self.log_vars[3])\n",
    "        loss3 = precision3*loss3 + self.log_vars[3]\n",
    "\n",
    "        precision4 = torch.exp(-self.log_vars[4])\n",
    "        loss4 = precision4*loss4 + self.log_vars[4]\n",
    "\n",
    "        precision5 = torch.exp(-self.log_vars[5])\n",
    "        loss5 = precision5*loss5 + self.log_vars[5]\n",
    "\n",
    "        precision6 = torch.exp(-self.log_vars[6])\n",
    "        loss6 = precision6*loss6 + self.log_vars[6]\n",
    "\n",
    "\n",
    "        return loss0+loss1+loss2+loss3+loss4+loss5+loss6\n",
    "\n",
    "print(\"Definied MultiTaskLossWrapper\")"
   ]
  },
  {
   "cell_type": "code",
   "execution_count": 14,
   "metadata": {
    "pycharm": {
     "name": "#%%\n"
    }
   },
   "outputs": [],
   "source": [
    "model = MultiTaskModel(models.resnet34, ps=0.25)\n",
    "\n",
    "\n",
    "loss_func = MultiTaskLossWrapper(7)\n",
    "\n",
    "learn = Learner(dls, model, loss_func=loss_func)\n",
    "learn.freeze()"
   ]
  },
  {
   "cell_type": "code",
   "execution_count": 15,
   "metadata": {
    "pycharm": {
     "name": "#%%\n"
    }
   },
   "outputs": [
    {
     "data": {
      "text/plain": [
       "'GeForce RTX 2080'"
      ]
     },
     "execution_count": 15,
     "metadata": {},
     "output_type": "execute_result"
    }
   ],
   "source": [
    "torch.cuda.get_device_name()"
   ]
  },
  {
   "cell_type": "code",
   "execution_count": 16,
   "metadata": {
    "pycharm": {
     "name": "#%%\n"
    }
   },
   "outputs": [
    {
     "data": {
      "text/plain": [
       "_CudaDeviceProperties(name='GeForce RTX 2080', major=7, minor=5, total_memory=8192MB, multi_processor_count=46)"
      ]
     },
     "execution_count": 16,
     "metadata": {},
     "output_type": "execute_result"
    }
   ],
   "source": [
    "torch.cuda.get_device_properties(0)"
   ]
  },
  {
   "cell_type": "code",
   "execution_count": 17,
   "metadata": {
    "pycharm": {
     "name": "#%%\n"
    }
   },
   "outputs": [
    {
     "data": {
      "text/html": [
       "\n",
       "    <div>\n",
       "        <style>\n",
       "            /* Turns off some styling */\n",
       "            progress {\n",
       "                /* gets rid of default border in Firefox and Opera. */\n",
       "                border: none;\n",
       "                /* Needs to be in here for Safari polyfill so background images work as expected. */\n",
       "                background-size: auto;\n",
       "            }\n",
       "            .progress-bar-interrupted, .progress-bar-interrupted::-webkit-progress-bar {\n",
       "                background: #F44336;\n",
       "            }\n",
       "        </style>\n",
       "      <progress value='0' class='' max='26' style='width:300px; height:20px; vertical-align: middle;'></progress>\n",
       "      \n",
       "    </div>\n",
       "    \n"
      ],
      "text/plain": [
       "<IPython.core.display.HTML object>"
      ]
     },
     "metadata": {},
     "output_type": "display_data"
    },
    {
     "ename": "AttributeError",
     "evalue": "'Learner' object has no attribute 'plot'",
     "output_type": "error",
     "traceback": [
      "\u001B[1;31m---------------------------------------------------------------------------\u001B[0m",
      "\u001B[1;31mAttributeError\u001B[0m                            Traceback (most recent call last)",
      "\u001B[1;32m<ipython-input-17-6cf5e5945c46>\u001B[0m in \u001B[0;36m<module>\u001B[1;34m\u001B[0m\n\u001B[0;32m      1\u001B[0m \u001B[0mlearn\u001B[0m\u001B[1;33m.\u001B[0m\u001B[0mlr_find\u001B[0m\u001B[1;33m(\u001B[0m\u001B[1;33m)\u001B[0m\u001B[1;33m\u001B[0m\u001B[1;33m\u001B[0m\u001B[0m\n\u001B[1;32m----> 2\u001B[1;33m \u001B[0mlearn\u001B[0m\u001B[1;33m.\u001B[0m\u001B[0mrecorder\u001B[0m\u001B[1;33m.\u001B[0m\u001B[0mplot\u001B[0m\u001B[1;33m(\u001B[0m\u001B[1;33m)\u001B[0m\u001B[1;33m\u001B[0m\u001B[1;33m\u001B[0m\u001B[0m\n\u001B[0m\u001B[0;32m      3\u001B[0m \u001B[1;33m\u001B[0m\u001B[0m\n\u001B[0;32m      4\u001B[0m \u001B[0mprint\u001B[0m\u001B[1;33m(\u001B[0m\u001B[1;34m\"not sure\"\u001B[0m\u001B[1;33m)\u001B[0m\u001B[1;33m\u001B[0m\u001B[1;33m\u001B[0m\u001B[0m\n",
      "\u001B[1;32mc:\\users\\nelson\\documents\\nwc_emcee\\venv\\lib\\site-packages\\fastcore\\basics.py\u001B[0m in \u001B[0;36m__getattr__\u001B[1;34m(self, k)\u001B[0m\n\u001B[0;32m    386\u001B[0m         \u001B[1;32mif\u001B[0m \u001B[0mself\u001B[0m\u001B[1;33m.\u001B[0m\u001B[0m_component_attr_filter\u001B[0m\u001B[1;33m(\u001B[0m\u001B[0mk\u001B[0m\u001B[1;33m)\u001B[0m\u001B[1;33m:\u001B[0m\u001B[1;33m\u001B[0m\u001B[1;33m\u001B[0m\u001B[0m\n\u001B[0;32m    387\u001B[0m             \u001B[0mattr\u001B[0m \u001B[1;33m=\u001B[0m \u001B[0mgetattr\u001B[0m\u001B[1;33m(\u001B[0m\u001B[0mself\u001B[0m\u001B[1;33m,\u001B[0m\u001B[0mself\u001B[0m\u001B[1;33m.\u001B[0m\u001B[0m_default\u001B[0m\u001B[1;33m,\u001B[0m\u001B[1;32mNone\u001B[0m\u001B[1;33m)\u001B[0m\u001B[1;33m\u001B[0m\u001B[1;33m\u001B[0m\u001B[0m\n\u001B[1;32m--> 388\u001B[1;33m             \u001B[1;32mif\u001B[0m \u001B[0mattr\u001B[0m \u001B[1;32mis\u001B[0m \u001B[1;32mnot\u001B[0m \u001B[1;32mNone\u001B[0m\u001B[1;33m:\u001B[0m \u001B[1;32mreturn\u001B[0m \u001B[0mgetattr\u001B[0m\u001B[1;33m(\u001B[0m\u001B[0mattr\u001B[0m\u001B[1;33m,\u001B[0m\u001B[0mk\u001B[0m\u001B[1;33m)\u001B[0m\u001B[1;33m\u001B[0m\u001B[1;33m\u001B[0m\u001B[0m\n\u001B[0m\u001B[0;32m    389\u001B[0m         \u001B[1;32mraise\u001B[0m \u001B[0mAttributeError\u001B[0m\u001B[1;33m(\u001B[0m\u001B[0mk\u001B[0m\u001B[1;33m)\u001B[0m\u001B[1;33m\u001B[0m\u001B[1;33m\u001B[0m\u001B[0m\n\u001B[0;32m    390\u001B[0m     \u001B[1;32mdef\u001B[0m \u001B[0m__dir__\u001B[0m\u001B[1;33m(\u001B[0m\u001B[0mself\u001B[0m\u001B[1;33m)\u001B[0m\u001B[1;33m:\u001B[0m \u001B[1;32mreturn\u001B[0m \u001B[0mcustom_dir\u001B[0m\u001B[1;33m(\u001B[0m\u001B[0mself\u001B[0m\u001B[1;33m,\u001B[0m\u001B[0mself\u001B[0m\u001B[1;33m.\u001B[0m\u001B[0m_dir\u001B[0m\u001B[1;33m(\u001B[0m\u001B[1;33m)\u001B[0m\u001B[1;33m)\u001B[0m\u001B[1;33m\u001B[0m\u001B[1;33m\u001B[0m\u001B[0m\n",
      "\u001B[1;31mAttributeError\u001B[0m: 'Learner' object has no attribute 'plot'"
     ]
    },
    {
     "data": {
      "image/png": "[encoded data removed]",
      "text/plain": [
       "<Figure size 432x288 with 1 Axes>"
      ]
     },
     "metadata": {
      "needs_background": "light"
     },
     "output_type": "display_data"
    }
   ],
   "source": [
    "learn.lr_find()\n",
    "learn.recorder.plot()\n",
    "\n",
    "print(\"not sure\")"
   ]
  },
  {
   "cell_type": "code",
   "execution_count": 21,
   "metadata": {
    "pycharm": {
     "name": "#%%\n"
    }
   },
   "outputs": [
    {
     "data": {
      "text/html": [
       "<table border=\"1\" class=\"dataframe\">\n",
       "  <thead>\n",
       "    <tr style=\"text-align: left;\">\n",
       "      <th>epoch</th>\n",
       "      <th>train_loss</th>\n",
       "      <th>valid_loss</th>\n",
       "      <th>time</th>\n",
       "    </tr>\n",
       "  </thead>\n",
       "  <tbody>\n",
       "    <tr>\n",
       "      <td>0</td>\n",
       "      <td>8.286426</td>\n",
       "      <td>7.237256</td>\n",
       "      <td>00:00</td>\n",
       "    </tr>\n",
       "    <tr>\n",
       "      <td>1</td>\n",
       "      <td>7.203887</td>\n",
       "      <td>7.065134</td>\n",
       "      <td>00:00</td>\n",
       "    </tr>\n",
       "    <tr>\n",
       "      <td>2</td>\n",
       "      <td>7.083667</td>\n",
       "      <td>7.167148</td>\n",
       "      <td>00:00</td>\n",
       "    </tr>\n",
       "    <tr>\n",
       "      <td>3</td>\n",
       "      <td>6.992726</td>\n",
       "      <td>6.855113</td>\n",
       "      <td>00:00</td>\n",
       "    </tr>\n",
       "    <tr>\n",
       "      <td>4</td>\n",
       "      <td>6.898600</td>\n",
       "      <td>6.723230</td>\n",
       "      <td>00:00</td>\n",
       "    </tr>\n",
       "    <tr>\n",
       "      <td>5</td>\n",
       "      <td>6.825167</td>\n",
       "      <td>6.748496</td>\n",
       "      <td>00:00</td>\n",
       "    </tr>\n",
       "    <tr>\n",
       "      <td>6</td>\n",
       "      <td>6.725195</td>\n",
       "      <td>6.895111</td>\n",
       "      <td>00:00</td>\n",
       "    </tr>\n",
       "    <tr>\n",
       "      <td>7</td>\n",
       "      <td>6.817009</td>\n",
       "      <td>6.618038</td>\n",
       "      <td>00:00</td>\n",
       "    </tr>\n",
       "    <tr>\n",
       "      <td>8</td>\n",
       "      <td>6.741704</td>\n",
       "      <td>6.734895</td>\n",
       "      <td>00:00</td>\n",
       "    </tr>\n",
       "    <tr>\n",
       "      <td>9</td>\n",
       "      <td>6.698371</td>\n",
       "      <td>7.723675</td>\n",
       "      <td>00:00</td>\n",
       "    </tr>\n",
       "    <tr>\n",
       "      <td>10</td>\n",
       "      <td>6.699443</td>\n",
       "      <td>8.361103</td>\n",
       "      <td>00:00</td>\n",
       "    </tr>\n",
       "    <tr>\n",
       "      <td>11</td>\n",
       "      <td>6.675049</td>\n",
       "      <td>8.827105</td>\n",
       "      <td>00:00</td>\n",
       "    </tr>\n",
       "    <tr>\n",
       "      <td>12</td>\n",
       "      <td>6.713118</td>\n",
       "      <td>6.699470</td>\n",
       "      <td>00:00</td>\n",
       "    </tr>\n",
       "    <tr>\n",
       "      <td>13</td>\n",
       "      <td>6.756401</td>\n",
       "      <td>6.284935</td>\n",
       "      <td>00:00</td>\n",
       "    </tr>\n",
       "    <tr>\n",
       "      <td>14</td>\n",
       "      <td>6.809988</td>\n",
       "      <td>7.995898</td>\n",
       "      <td>00:00</td>\n",
       "    </tr>\n",
       "    <tr>\n",
       "      <td>15</td>\n",
       "      <td>7.000531</td>\n",
       "      <td>10.251436</td>\n",
       "      <td>00:00</td>\n",
       "    </tr>\n",
       "    <tr>\n",
       "      <td>16</td>\n",
       "      <td>7.178623</td>\n",
       "      <td>8.308962</td>\n",
       "      <td>00:00</td>\n",
       "    </tr>\n",
       "    <tr>\n",
       "      <td>17</td>\n",
       "      <td>7.277597</td>\n",
       "      <td>7.959316</td>\n",
       "      <td>00:00</td>\n",
       "    </tr>\n",
       "    <tr>\n",
       "      <td>18</td>\n",
       "      <td>7.442460</td>\n",
       "      <td>16.837265</td>\n",
       "      <td>00:00</td>\n",
       "    </tr>\n",
       "    <tr>\n",
       "      <td>19</td>\n",
       "      <td>7.620497</td>\n",
       "      <td>9.637401</td>\n",
       "      <td>00:00</td>\n",
       "    </tr>\n",
       "    <tr>\n",
       "      <td>20</td>\n",
       "      <td>8.193330</td>\n",
       "      <td>39.322014</td>\n",
       "      <td>00:00</td>\n",
       "    </tr>\n",
       "    <tr>\n",
       "      <td>21</td>\n",
       "      <td>8.365330</td>\n",
       "      <td>60.409782</td>\n",
       "      <td>00:00</td>\n",
       "    </tr>\n",
       "    <tr>\n",
       "      <td>22</td>\n",
       "      <td>8.679264</td>\n",
       "      <td>50.281578</td>\n",
       "      <td>00:00</td>\n",
       "    </tr>\n",
       "    <tr>\n",
       "      <td>23</td>\n",
       "      <td>8.772514</td>\n",
       "      <td>1591.826538</td>\n",
       "      <td>00:00</td>\n",
       "    </tr>\n",
       "    <tr>\n",
       "      <td>24</td>\n",
       "      <td>8.891240</td>\n",
       "      <td>866.829956</td>\n",
       "      <td>00:00</td>\n",
       "    </tr>\n",
       "    <tr>\n",
       "      <td>25</td>\n",
       "      <td>9.146082</td>\n",
       "      <td>83.580803</td>\n",
       "      <td>00:00</td>\n",
       "    </tr>\n",
       "    <tr>\n",
       "      <td>26</td>\n",
       "      <td>9.332743</td>\n",
       "      <td>79.927109</td>\n",
       "      <td>00:00</td>\n",
       "    </tr>\n",
       "    <tr>\n",
       "      <td>27</td>\n",
       "      <td>9.982654</td>\n",
       "      <td>25.869873</td>\n",
       "      <td>00:00</td>\n",
       "    </tr>\n",
       "    <tr>\n",
       "      <td>28</td>\n",
       "      <td>10.124472</td>\n",
       "      <td>26.918598</td>\n",
       "      <td>00:00</td>\n",
       "    </tr>\n",
       "    <tr>\n",
       "      <td>29</td>\n",
       "      <td>10.093224</td>\n",
       "      <td>79.529205</td>\n",
       "      <td>00:00</td>\n",
       "    </tr>\n",
       "    <tr>\n",
       "      <td>30</td>\n",
       "      <td>10.092284</td>\n",
       "      <td>24.156183</td>\n",
       "      <td>00:00</td>\n",
       "    </tr>\n",
       "    <tr>\n",
       "      <td>31</td>\n",
       "      <td>10.023453</td>\n",
       "      <td>9.199178</td>\n",
       "      <td>00:00</td>\n",
       "    </tr>\n",
       "    <tr>\n",
       "      <td>32</td>\n",
       "      <td>10.064504</td>\n",
       "      <td>9.314679</td>\n",
       "      <td>00:00</td>\n",
       "    </tr>\n",
       "    <tr>\n",
       "      <td>33</td>\n",
       "      <td>9.982175</td>\n",
       "      <td>13.234332</td>\n",
       "      <td>00:00</td>\n",
       "    </tr>\n",
       "    <tr>\n",
       "      <td>34</td>\n",
       "      <td>10.097772</td>\n",
       "      <td>10.614668</td>\n",
       "      <td>00:00</td>\n",
       "    </tr>\n",
       "    <tr>\n",
       "      <td>35</td>\n",
       "      <td>10.017920</td>\n",
       "      <td>11.050320</td>\n",
       "      <td>00:00</td>\n",
       "    </tr>\n",
       "    <tr>\n",
       "      <td>36</td>\n",
       "      <td>9.982772</td>\n",
       "      <td>12.655348</td>\n",
       "      <td>00:00</td>\n",
       "    </tr>\n",
       "    <tr>\n",
       "      <td>37</td>\n",
       "      <td>9.903749</td>\n",
       "      <td>15.292200</td>\n",
       "      <td>00:00</td>\n",
       "    </tr>\n",
       "    <tr>\n",
       "      <td>38</td>\n",
       "      <td>9.737253</td>\n",
       "      <td>16.087385</td>\n",
       "      <td>00:00</td>\n",
       "    </tr>\n",
       "    <tr>\n",
       "      <td>39</td>\n",
       "      <td>9.677226</td>\n",
       "      <td>14.251608</td>\n",
       "      <td>00:00</td>\n",
       "    </tr>\n",
       "    <tr>\n",
       "      <td>40</td>\n",
       "      <td>9.508145</td>\n",
       "      <td>13.027445</td>\n",
       "      <td>00:00</td>\n",
       "    </tr>\n",
       "    <tr>\n",
       "      <td>41</td>\n",
       "      <td>9.315109</td>\n",
       "      <td>8.976227</td>\n",
       "      <td>00:00</td>\n",
       "    </tr>\n",
       "    <tr>\n",
       "      <td>42</td>\n",
       "      <td>9.224314</td>\n",
       "      <td>9.064581</td>\n",
       "      <td>00:00</td>\n",
       "    </tr>\n",
       "    <tr>\n",
       "      <td>43</td>\n",
       "      <td>9.049644</td>\n",
       "      <td>8.551987</td>\n",
       "      <td>00:00</td>\n",
       "    </tr>\n",
       "    <tr>\n",
       "      <td>44</td>\n",
       "      <td>8.923390</td>\n",
       "      <td>10.504395</td>\n",
       "      <td>00:00</td>\n",
       "    </tr>\n",
       "    <tr>\n",
       "      <td>45</td>\n",
       "      <td>8.870356</td>\n",
       "      <td>9.715242</td>\n",
       "      <td>00:00</td>\n",
       "    </tr>\n",
       "    <tr>\n",
       "      <td>46</td>\n",
       "      <td>8.756227</td>\n",
       "      <td>8.690533</td>\n",
       "      <td>00:00</td>\n",
       "    </tr>\n",
       "    <tr>\n",
       "      <td>47</td>\n",
       "      <td>8.649166</td>\n",
       "      <td>8.173147</td>\n",
       "      <td>00:00</td>\n",
       "    </tr>\n",
       "    <tr>\n",
       "      <td>48</td>\n",
       "      <td>8.610864</td>\n",
       "      <td>7.695748</td>\n",
       "      <td>00:00</td>\n",
       "    </tr>\n",
       "    <tr>\n",
       "      <td>49</td>\n",
       "      <td>8.495695</td>\n",
       "      <td>7.448305</td>\n",
       "      <td>00:00</td>\n",
       "    </tr>\n",
       "    <tr>\n",
       "      <td>50</td>\n",
       "      <td>8.342076</td>\n",
       "      <td>7.110399</td>\n",
       "      <td>00:00</td>\n",
       "    </tr>\n",
       "    <tr>\n",
       "      <td>51</td>\n",
       "      <td>8.207009</td>\n",
       "      <td>7.443190</td>\n",
       "      <td>00:00</td>\n",
       "    </tr>\n",
       "    <tr>\n",
       "      <td>52</td>\n",
       "      <td>8.186531</td>\n",
       "      <td>7.651372</td>\n",
       "      <td>00:00</td>\n",
       "    </tr>\n",
       "    <tr>\n",
       "      <td>53</td>\n",
       "      <td>8.178121</td>\n",
       "      <td>8.243653</td>\n",
       "      <td>00:00</td>\n",
       "    </tr>\n",
       "    <tr>\n",
       "      <td>54</td>\n",
       "      <td>8.085205</td>\n",
       "      <td>9.208414</td>\n",
       "      <td>00:00</td>\n",
       "    </tr>\n",
       "    <tr>\n",
       "      <td>55</td>\n",
       "      <td>8.012426</td>\n",
       "      <td>10.004031</td>\n",
       "      <td>00:00</td>\n",
       "    </tr>\n",
       "    <tr>\n",
       "      <td>56</td>\n",
       "      <td>7.904704</td>\n",
       "      <td>10.026175</td>\n",
       "      <td>00:00</td>\n",
       "    </tr>\n",
       "    <tr>\n",
       "      <td>57</td>\n",
       "      <td>7.831130</td>\n",
       "      <td>10.017465</td>\n",
       "      <td>00:00</td>\n",
       "    </tr>\n",
       "    <tr>\n",
       "      <td>58</td>\n",
       "      <td>7.796618</td>\n",
       "      <td>9.167376</td>\n",
       "      <td>00:00</td>\n",
       "    </tr>\n",
       "    <tr>\n",
       "      <td>59</td>\n",
       "      <td>7.712991</td>\n",
       "      <td>7.899718</td>\n",
       "      <td>00:00</td>\n",
       "    </tr>\n",
       "    <tr>\n",
       "      <td>60</td>\n",
       "      <td>7.630733</td>\n",
       "      <td>7.630476</td>\n",
       "      <td>00:00</td>\n",
       "    </tr>\n",
       "    <tr>\n",
       "      <td>61</td>\n",
       "      <td>7.509573</td>\n",
       "      <td>7.716399</td>\n",
       "      <td>00:00</td>\n",
       "    </tr>\n",
       "    <tr>\n",
       "      <td>62</td>\n",
       "      <td>7.435911</td>\n",
       "      <td>7.384544</td>\n",
       "      <td>00:00</td>\n",
       "    </tr>\n",
       "    <tr>\n",
       "      <td>63</td>\n",
       "      <td>7.406646</td>\n",
       "      <td>7.967883</td>\n",
       "      <td>00:00</td>\n",
       "    </tr>\n",
       "    <tr>\n",
       "      <td>64</td>\n",
       "      <td>7.311877</td>\n",
       "      <td>8.528598</td>\n",
       "      <td>00:00</td>\n",
       "    </tr>\n",
       "    <tr>\n",
       "      <td>65</td>\n",
       "      <td>7.266854</td>\n",
       "      <td>9.362427</td>\n",
       "      <td>00:00</td>\n",
       "    </tr>\n",
       "    <tr>\n",
       "      <td>66</td>\n",
       "      <td>7.197498</td>\n",
       "      <td>8.482711</td>\n",
       "      <td>00:00</td>\n",
       "    </tr>\n",
       "    <tr>\n",
       "      <td>67</td>\n",
       "      <td>7.177959</td>\n",
       "      <td>8.519074</td>\n",
       "      <td>00:00</td>\n",
       "    </tr>\n",
       "    <tr>\n",
       "      <td>68</td>\n",
       "      <td>7.133997</td>\n",
       "      <td>7.803250</td>\n",
       "      <td>00:00</td>\n",
       "    </tr>\n",
       "    <tr>\n",
       "      <td>69</td>\n",
       "      <td>7.076384</td>\n",
       "      <td>7.512864</td>\n",
       "      <td>00:00</td>\n",
       "    </tr>\n",
       "    <tr>\n",
       "      <td>70</td>\n",
       "      <td>7.052763</td>\n",
       "      <td>7.089383</td>\n",
       "      <td>00:00</td>\n",
       "    </tr>\n",
       "    <tr>\n",
       "      <td>71</td>\n",
       "      <td>7.024167</td>\n",
       "      <td>6.888259</td>\n",
       "      <td>00:00</td>\n",
       "    </tr>\n",
       "    <tr>\n",
       "      <td>72</td>\n",
       "      <td>6.964087</td>\n",
       "      <td>7.382874</td>\n",
       "      <td>00:00</td>\n",
       "    </tr>\n",
       "    <tr>\n",
       "      <td>73</td>\n",
       "      <td>6.897383</td>\n",
       "      <td>7.175602</td>\n",
       "      <td>00:00</td>\n",
       "    </tr>\n",
       "    <tr>\n",
       "      <td>74</td>\n",
       "      <td>6.863447</td>\n",
       "      <td>6.907432</td>\n",
       "      <td>00:00</td>\n",
       "    </tr>\n",
       "    <tr>\n",
       "      <td>75</td>\n",
       "      <td>6.824610</td>\n",
       "      <td>6.791620</td>\n",
       "      <td>00:00</td>\n",
       "    </tr>\n",
       "    <tr>\n",
       "      <td>76</td>\n",
       "      <td>6.806781</td>\n",
       "      <td>6.845486</td>\n",
       "      <td>00:00</td>\n",
       "    </tr>\n",
       "    <tr>\n",
       "      <td>77</td>\n",
       "      <td>6.764437</td>\n",
       "      <td>7.533164</td>\n",
       "      <td>00:00</td>\n",
       "    </tr>\n",
       "    <tr>\n",
       "      <td>78</td>\n",
       "      <td>6.681483</td>\n",
       "      <td>8.414639</td>\n",
       "      <td>00:00</td>\n",
       "    </tr>\n",
       "    <tr>\n",
       "      <td>79</td>\n",
       "      <td>6.604579</td>\n",
       "      <td>8.771105</td>\n",
       "      <td>00:00</td>\n",
       "    </tr>\n",
       "    <tr>\n",
       "      <td>80</td>\n",
       "      <td>6.586013</td>\n",
       "      <td>8.426475</td>\n",
       "      <td>00:00</td>\n",
       "    </tr>\n",
       "    <tr>\n",
       "      <td>81</td>\n",
       "      <td>6.535283</td>\n",
       "      <td>8.215247</td>\n",
       "      <td>00:00</td>\n",
       "    </tr>\n",
       "    <tr>\n",
       "      <td>82</td>\n",
       "      <td>6.465167</td>\n",
       "      <td>7.984034</td>\n",
       "      <td>00:00</td>\n",
       "    </tr>\n",
       "    <tr>\n",
       "      <td>83</td>\n",
       "      <td>6.482655</td>\n",
       "      <td>7.973602</td>\n",
       "      <td>00:00</td>\n",
       "    </tr>\n",
       "    <tr>\n",
       "      <td>84</td>\n",
       "      <td>6.443604</td>\n",
       "      <td>8.027463</td>\n",
       "      <td>00:00</td>\n",
       "    </tr>\n",
       "    <tr>\n",
       "      <td>85</td>\n",
       "      <td>6.442442</td>\n",
       "      <td>7.942376</td>\n",
       "      <td>00:00</td>\n",
       "    </tr>\n",
       "    <tr>\n",
       "      <td>86</td>\n",
       "      <td>6.393447</td>\n",
       "      <td>7.975091</td>\n",
       "      <td>00:00</td>\n",
       "    </tr>\n",
       "    <tr>\n",
       "      <td>87</td>\n",
       "      <td>6.344862</td>\n",
       "      <td>7.886630</td>\n",
       "      <td>00:00</td>\n",
       "    </tr>\n",
       "    <tr>\n",
       "      <td>88</td>\n",
       "      <td>6.303775</td>\n",
       "      <td>8.019408</td>\n",
       "      <td>00:00</td>\n",
       "    </tr>\n",
       "    <tr>\n",
       "      <td>89</td>\n",
       "      <td>6.280527</td>\n",
       "      <td>7.835769</td>\n",
       "      <td>00:00</td>\n",
       "    </tr>\n",
       "    <tr>\n",
       "      <td>90</td>\n",
       "      <td>6.225188</td>\n",
       "      <td>7.906526</td>\n",
       "      <td>00:00</td>\n",
       "    </tr>\n",
       "    <tr>\n",
       "      <td>91</td>\n",
       "      <td>6.234239</td>\n",
       "      <td>7.967728</td>\n",
       "      <td>00:00</td>\n",
       "    </tr>\n",
       "    <tr>\n",
       "      <td>92</td>\n",
       "      <td>6.183394</td>\n",
       "      <td>7.873891</td>\n",
       "      <td>00:00</td>\n",
       "    </tr>\n",
       "    <tr>\n",
       "      <td>93</td>\n",
       "      <td>6.125204</td>\n",
       "      <td>7.990819</td>\n",
       "      <td>00:00</td>\n",
       "    </tr>\n",
       "    <tr>\n",
       "      <td>94</td>\n",
       "      <td>6.089616</td>\n",
       "      <td>7.973493</td>\n",
       "      <td>00:00</td>\n",
       "    </tr>\n",
       "    <tr>\n",
       "      <td>95</td>\n",
       "      <td>6.056874</td>\n",
       "      <td>7.880027</td>\n",
       "      <td>00:00</td>\n",
       "    </tr>\n",
       "    <tr>\n",
       "      <td>96</td>\n",
       "      <td>6.049652</td>\n",
       "      <td>7.704072</td>\n",
       "      <td>00:00</td>\n",
       "    </tr>\n",
       "    <tr>\n",
       "      <td>97</td>\n",
       "      <td>6.014324</td>\n",
       "      <td>7.773221</td>\n",
       "      <td>00:00</td>\n",
       "    </tr>\n",
       "    <tr>\n",
       "      <td>98</td>\n",
       "      <td>5.984625</td>\n",
       "      <td>7.792375</td>\n",
       "      <td>00:00</td>\n",
       "    </tr>\n",
       "    <tr>\n",
       "      <td>99</td>\n",
       "      <td>5.971524</td>\n",
       "      <td>7.897882</td>\n",
       "      <td>00:00</td>\n",
       "    </tr>\n",
       "  </tbody>\n",
       "</table>"
      ],
      "text/plain": [
       "<IPython.core.display.HTML object>"
      ]
     },
     "metadata": {},
     "output_type": "display_data"
    }
   ],
   "source": [
    "learn.fit_one_cycle(100, 1e-2)"
   ]
  }
 ],
 "metadata": {
  "kernelspec": {
   "display_name": "Python 3",
   "language": "python",
   "name": "python3"
  },
  "language_info": {
   "codemirror_mode": {
    "name": "ipython",
    "version": 3
   },
   "file_extension": ".py",
   "mimetype": "text/x-python",
   "name": "python",
   "nbconvert_exporter": "python",
   "pygments_lexer": "ipython3",
   "version": "3.9.0"
  }
 },
 "nbformat": 4,
 "nbformat_minor": 1
}